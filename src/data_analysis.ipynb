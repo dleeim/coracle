{
 "cells": [
  {
   "cell_type": "code",
   "execution_count": null,
   "metadata": {},
   "outputs": [],
   "source": [
    "import seaborn as sns\n",
    "from pylab import rcParams\n",
    "import matplotlib.pyplot as plt\n",
    "\n",
    "import pandas as pd\n",
    "import numpy as np\n",
    "from sklearn.preprocessing import MinMaxScaler"
   ]
  },
  {
   "cell_type": "code",
   "execution_count": 10,
   "metadata": {},
   "outputs": [
    {
     "data": {
      "text/html": [
       "<div>\n",
       "<style scoped>\n",
       "    .dataframe tbody tr th:only-of-type {\n",
       "        vertical-align: middle;\n",
       "    }\n",
       "\n",
       "    .dataframe tbody tr th {\n",
       "        vertical-align: top;\n",
       "    }\n",
       "\n",
       "    .dataframe thead th {\n",
       "        text-align: right;\n",
       "    }\n",
       "</style>\n",
       "<table border=\"1\" class=\"dataframe\">\n",
       "  <thead>\n",
       "    <tr style=\"text-align: right;\">\n",
       "      <th></th>\n",
       "      <th>timestamp</th>\n",
       "      <th>open</th>\n",
       "      <th>high</th>\n",
       "      <th>low</th>\n",
       "      <th>close</th>\n",
       "      <th>volume</th>\n",
       "    </tr>\n",
       "  </thead>\n",
       "  <tbody>\n",
       "    <tr>\n",
       "      <th>0</th>\n",
       "      <td>2017-08-17</td>\n",
       "      <td>4261.48</td>\n",
       "      <td>4485.39</td>\n",
       "      <td>4200.74</td>\n",
       "      <td>4285.08</td>\n",
       "      <td>795.150377</td>\n",
       "    </tr>\n",
       "    <tr>\n",
       "      <th>1</th>\n",
       "      <td>2017-08-18</td>\n",
       "      <td>4285.08</td>\n",
       "      <td>4371.52</td>\n",
       "      <td>3938.77</td>\n",
       "      <td>4108.37</td>\n",
       "      <td>1199.888264</td>\n",
       "    </tr>\n",
       "    <tr>\n",
       "      <th>2</th>\n",
       "      <td>2017-08-19</td>\n",
       "      <td>4108.37</td>\n",
       "      <td>4184.69</td>\n",
       "      <td>3850.00</td>\n",
       "      <td>4139.98</td>\n",
       "      <td>381.309763</td>\n",
       "    </tr>\n",
       "    <tr>\n",
       "      <th>3</th>\n",
       "      <td>2017-08-20</td>\n",
       "      <td>4120.98</td>\n",
       "      <td>4211.08</td>\n",
       "      <td>4032.62</td>\n",
       "      <td>4086.29</td>\n",
       "      <td>467.083022</td>\n",
       "    </tr>\n",
       "    <tr>\n",
       "      <th>4</th>\n",
       "      <td>2017-08-21</td>\n",
       "      <td>4069.13</td>\n",
       "      <td>4119.62</td>\n",
       "      <td>3911.79</td>\n",
       "      <td>4016.00</td>\n",
       "      <td>691.743060</td>\n",
       "    </tr>\n",
       "  </tbody>\n",
       "</table>\n",
       "</div>"
      ],
      "text/plain": [
       "    timestamp     open     high      low    close       volume\n",
       "0  2017-08-17  4261.48  4485.39  4200.74  4285.08   795.150377\n",
       "1  2017-08-18  4285.08  4371.52  3938.77  4108.37  1199.888264\n",
       "2  2017-08-19  4108.37  4184.69  3850.00  4139.98   381.309763\n",
       "3  2017-08-20  4120.98  4211.08  4032.62  4086.29   467.083022\n",
       "4  2017-08-21  4069.13  4119.62  3911.79  4016.00   691.743060"
      ]
     },
     "execution_count": 10,
     "metadata": {},
     "output_type": "execute_result"
    }
   ],
   "source": [
    "file_path = \"../data/BTCUSDT-binance-spot-1d.csv\"\n",
    "df = pd.read_csv(file_path)\n",
    "df.head()"
   ]
  },
  {
   "cell_type": "code",
   "execution_count": 13,
   "metadata": {},
   "outputs": [
    {
     "data": {
      "text/html": [
       "<div>\n",
       "<style scoped>\n",
       "    .dataframe tbody tr th:only-of-type {\n",
       "        vertical-align: middle;\n",
       "    }\n",
       "\n",
       "    .dataframe tbody tr th {\n",
       "        vertical-align: top;\n",
       "    }\n",
       "\n",
       "    .dataframe thead th {\n",
       "        text-align: right;\n",
       "    }\n",
       "</style>\n",
       "<table border=\"1\" class=\"dataframe\">\n",
       "  <thead>\n",
       "    <tr style=\"text-align: right;\">\n",
       "      <th></th>\n",
       "      <th>open</th>\n",
       "      <th>high</th>\n",
       "      <th>low</th>\n",
       "      <th>close</th>\n",
       "      <th>volume</th>\n",
       "    </tr>\n",
       "  </thead>\n",
       "  <tbody>\n",
       "    <tr>\n",
       "      <th>count</th>\n",
       "      <td>2783.000000</td>\n",
       "      <td>2783.000000</td>\n",
       "      <td>2783.000000</td>\n",
       "      <td>2783.000000</td>\n",
       "      <td>2783.000000</td>\n",
       "    </tr>\n",
       "    <tr>\n",
       "      <th>mean</th>\n",
       "      <td>29126.076101</td>\n",
       "      <td>29818.035602</td>\n",
       "      <td>28379.252619</td>\n",
       "      <td>29154.086820</td>\n",
       "      <td>66825.282084</td>\n",
       "    </tr>\n",
       "    <tr>\n",
       "      <th>std</th>\n",
       "      <td>24673.445255</td>\n",
       "      <td>25191.557459</td>\n",
       "      <td>24119.866955</td>\n",
       "      <td>24689.349345</td>\n",
       "      <td>79210.865993</td>\n",
       "    </tr>\n",
       "    <tr>\n",
       "      <th>min</th>\n",
       "      <td>3188.010000</td>\n",
       "      <td>3276.500000</td>\n",
       "      <td>2817.000000</td>\n",
       "      <td>3189.020000</td>\n",
       "      <td>228.108068</td>\n",
       "    </tr>\n",
       "    <tr>\n",
       "      <th>25%</th>\n",
       "      <td>8695.420000</td>\n",
       "      <td>8904.160000</td>\n",
       "      <td>8403.950000</td>\n",
       "      <td>8700.855000</td>\n",
       "      <td>27562.526052</td>\n",
       "    </tr>\n",
       "    <tr>\n",
       "      <th>50%</th>\n",
       "      <td>21195.600000</td>\n",
       "      <td>21684.870000</td>\n",
       "      <td>20736.720000</td>\n",
       "      <td>21237.690000</td>\n",
       "      <td>43000.432560</td>\n",
       "    </tr>\n",
       "    <tr>\n",
       "      <th>75%</th>\n",
       "      <td>43685.535000</td>\n",
       "      <td>44377.260000</td>\n",
       "      <td>42557.730000</td>\n",
       "      <td>43707.880000</td>\n",
       "      <td>70098.076238</td>\n",
       "    </tr>\n",
       "    <tr>\n",
       "      <th>max</th>\n",
       "      <td>106143.820000</td>\n",
       "      <td>109588.000000</td>\n",
       "      <td>105321.490000</td>\n",
       "      <td>106143.820000</td>\n",
       "      <td>760705.362783</td>\n",
       "    </tr>\n",
       "  </tbody>\n",
       "</table>\n",
       "</div>"
      ],
      "text/plain": [
       "                open           high  ...          close         volume\n",
       "count    2783.000000    2783.000000  ...    2783.000000    2783.000000\n",
       "mean    29126.076101   29818.035602  ...   29154.086820   66825.282084\n",
       "std     24673.445255   25191.557459  ...   24689.349345   79210.865993\n",
       "min      3188.010000    3276.500000  ...    3189.020000     228.108068\n",
       "25%      8695.420000    8904.160000  ...    8700.855000   27562.526052\n",
       "50%     21195.600000   21684.870000  ...   21237.690000   43000.432560\n",
       "75%     43685.535000   44377.260000  ...   43707.880000   70098.076238\n",
       "max    106143.820000  109588.000000  ...  106143.820000  760705.362783\n",
       "\n",
       "[8 rows x 5 columns]"
      ]
     },
     "execution_count": 13,
     "metadata": {},
     "output_type": "execute_result"
    }
   ],
   "source": [
    "df.describe()"
   ]
  },
  {
   "cell_type": "code",
   "execution_count": null,
   "metadata": {},
   "outputs": [
    {
     "name": "stdout",
     "output_type": "stream",
     "text": [
      "Does the DataFrame contain any NaN?: False\n"
     ]
    }
   ],
   "source": [
    "# Check if any NaN exists\n",
    "has_nan = df.isna().any().any()\n",
    "print(\"Does the DataFrame contain any NaN?:\", has_nan)"
   ]
  },
  {
   "cell_type": "code",
   "execution_count": null,
   "metadata": {},
   "outputs": [
    {
     "data": {
      "image/png": "[encoded data removed]",
      "text/plain": [
       "<Figure size 640x480 with 1 Axes>"
      ]
     },
     "metadata": {},
     "output_type": "display_data"
    }
   ],
   "source": [
    "plt.plot(df['timestamp'],df['close'])\n",
    "plt.xlabel('Days')\n",
    "plt.ylabel('Price (BTC-USDT)')\n",
    "plt.title('Closing prices of BTC-USDT')\n",
    "\n",
    "# Reduce the number of ticks\n",
    "from matplotlib.ticker import MaxNLocator\n",
    "plt.gca().xaxis.set_major_locator(MaxNLocator(nbins=5))  # Show ~5 ticks"
   ]
  },
  {
   "cell_type": "code",
   "execution_count": 52,
   "metadata": {},
   "outputs": [
    {
     "data": {
      "text/plain": [
       "Text(0.5, 1.0, 'Distribution of Log Returns (Closing Price) with KDE')"
      ]
     },
     "execution_count": 52,
     "metadata": {},
     "output_type": "execute_result"
    },
    {
     "data": {
      "image/png": "[encoded data removed]",
      "text/plain": [
       "<Figure size 1400x600 with 2 Axes>"
      ]
     },
     "metadata": {},
     "output_type": "display_data"
    }
   ],
   "source": [
    "df['log return'] = np.log(df['close'] / df['close'].shift(1))\n",
    "df_logreturn = df.dropna()\n",
    "\n",
    "fig, axs = plt.subplots(1,2,figsize=(14, 6))\n",
    "axs[0].plot(df_logreturn['timestamp'],df_logreturn['log return'])\n",
    "\n",
    "axs[0].set_xlabel('Days')\n",
    "axs[0].set_ylabel('Log Return')\n",
    "axs[0].set_title('Log Return (Closing prices) of BTC-USDT')\n",
    "axs[0].xaxis.set_major_locator(MaxNLocator(nbins=5))  # Show ~5 ticks\n",
    "\n",
    "# Plot histogram with KDE\n",
    "axs[1].hist(df_logreturn['log return'], bins=30, edgecolor='black', alpha=0.7)\n",
    "\n",
    "# Add labels and title\n",
    "axs[1].set_xlabel('Log Return')\n",
    "axs[1].set_ylabel('Frequency')\n",
    "axs[1].set_title('Distribution of Log Returns (Closing Price) with KDE')"
   ]
  },
  {
   "cell_type": "code",
   "execution_count": 66,
   "metadata": {},
   "outputs": [
    {
     "data": {
      "text/html": [
       "<div>\n",
       "<style scoped>\n",
       "    .dataframe tbody tr th:only-of-type {\n",
       "        vertical-align: middle;\n",
       "    }\n",
       "\n",
       "    .dataframe tbody tr th {\n",
       "        vertical-align: top;\n",
       "    }\n",
       "\n",
       "    .dataframe thead th {\n",
       "        text-align: right;\n",
       "    }\n",
       "</style>\n",
       "<table border=\"1\" class=\"dataframe\">\n",
       "  <thead>\n",
       "    <tr style=\"text-align: right;\">\n",
       "      <th></th>\n",
       "      <th>timestamp</th>\n",
       "      <th>open</th>\n",
       "      <th>high</th>\n",
       "      <th>low</th>\n",
       "      <th>close</th>\n",
       "      <th>volume</th>\n",
       "      <th>log return</th>\n",
       "    </tr>\n",
       "  </thead>\n",
       "  <tbody>\n",
       "    <tr>\n",
       "      <th>938</th>\n",
       "      <td>2020-03-12</td>\n",
       "      <td>7934.58</td>\n",
       "      <td>7966.17</td>\n",
       "      <td>4410.00</td>\n",
       "      <td>4800.00</td>\n",
       "      <td>261505.608653</td>\n",
       "      <td>-0.502607</td>\n",
       "    </tr>\n",
       "    <tr>\n",
       "      <th>152</th>\n",
       "      <td>2018-01-16</td>\n",
       "      <td>13500.00</td>\n",
       "      <td>13542.93</td>\n",
       "      <td>9035.00</td>\n",
       "      <td>10900.00</td>\n",
       "      <td>63401.169175</td>\n",
       "      <td>-0.216880</td>\n",
       "    </tr>\n",
       "    <tr>\n",
       "      <th>28</th>\n",
       "      <td>2017-09-14</td>\n",
       "      <td>3944.00</td>\n",
       "      <td>3993.00</td>\n",
       "      <td>3165.13</td>\n",
       "      <td>3189.02</td>\n",
       "      <td>1665.021543</td>\n",
       "      <td>-0.212657</td>\n",
       "    </tr>\n",
       "    <tr>\n",
       "      <th>1761</th>\n",
       "      <td>2022-06-13</td>\n",
       "      <td>26574.53</td>\n",
       "      <td>26895.84</td>\n",
       "      <td>21925.77</td>\n",
       "      <td>22487.41</td>\n",
       "      <td>254611.034966</td>\n",
       "      <td>-0.166998</td>\n",
       "    </tr>\n",
       "    <tr>\n",
       "      <th>172</th>\n",
       "      <td>2018-02-05</td>\n",
       "      <td>8179.99</td>\n",
       "      <td>8382.80</td>\n",
       "      <td>6625.00</td>\n",
       "      <td>6939.99</td>\n",
       "      <td>63403.182579</td>\n",
       "      <td>-0.164980</td>\n",
       "    </tr>\n",
       "  </tbody>\n",
       "</table>\n",
       "</div>"
      ],
      "text/plain": [
       "       timestamp      open      high  ...     close         volume  log return\n",
       "938   2020-03-12   7934.58   7966.17  ...   4800.00  261505.608653   -0.502607\n",
       "152   2018-01-16  13500.00  13542.93  ...  10900.00   63401.169175   -0.216880\n",
       "28    2017-09-14   3944.00   3993.00  ...   3189.02    1665.021543   -0.212657\n",
       "1761  2022-06-13  26574.53  26895.84  ...  22487.41  254611.034966   -0.166998\n",
       "172   2018-02-05   8179.99   8382.80  ...   6939.99   63403.182579   -0.164980\n",
       "\n",
       "[5 rows x 7 columns]"
      ]
     },
     "execution_count": 66,
     "metadata": {},
     "output_type": "execute_result"
    }
   ],
   "source": [
    "df_logreturn.sort_values('log return').head()"
   ]
  },
  {
   "cell_type": "code",
   "execution_count": null,
   "metadata": {},
   "outputs": [
    {
     "data": {
      "text/html": [
       "<div>\n",
       "<style scoped>\n",
       "    .dataframe tbody tr th:only-of-type {\n",
       "        vertical-align: middle;\n",
       "    }\n",
       "\n",
       "    .dataframe tbody tr th {\n",
       "        vertical-align: top;\n",
       "    }\n",
       "\n",
       "    .dataframe thead th {\n",
       "        text-align: right;\n",
       "    }\n",
       "</style>\n",
       "<table border=\"1\" class=\"dataframe\">\n",
       "  <thead>\n",
       "    <tr style=\"text-align: right;\">\n",
       "      <th></th>\n",
       "      <th>timestamp</th>\n",
       "      <th>open</th>\n",
       "      <th>high</th>\n",
       "      <th>low</th>\n",
       "      <th>close</th>\n",
       "      <th>volume</th>\n",
       "      <th>log return</th>\n",
       "    </tr>\n",
       "  </thead>\n",
       "  <tbody>\n",
       "    <tr>\n",
       "      <th>939</th>\n",
       "      <td>2020-03-13</td>\n",
       "      <td>4800.01</td>\n",
       "      <td>5955.0</td>\n",
       "      <td>3782.13</td>\n",
       "      <td>5578.6</td>\n",
       "      <td>402201.673764</td>\n",
       "      <td>0.150322</td>\n",
       "    </tr>\n",
       "  </tbody>\n",
       "</table>\n",
       "</div>"
      ],
      "text/plain": [
       "      timestamp     open    high      low   close         volume  log return\n",
       "939  2020-03-13  4800.01  5955.0  3782.13  5578.6  402201.673764    0.150322"
      ]
     },
     "execution_count": 71,
     "metadata": {},
     "output_type": "execute_result"
    }
   ],
   "source": [
    "df_logreturn[df_logreturn['timestamp'] == \"2020-03-11\"]"
   ]
  },
  {
   "cell_type": "code",
   "execution_count": 76,
   "metadata": {},
   "outputs": [
    {
     "data": {
      "text/html": [
       "<div>\n",
       "<style scoped>\n",
       "    .dataframe tbody tr th:only-of-type {\n",
       "        vertical-align: middle;\n",
       "    }\n",
       "\n",
       "    .dataframe tbody tr th {\n",
       "        vertical-align: top;\n",
       "    }\n",
       "\n",
       "    .dataframe thead th {\n",
       "        text-align: right;\n",
       "    }\n",
       "</style>\n",
       "<table border=\"1\" class=\"dataframe\">\n",
       "  <thead>\n",
       "    <tr style=\"text-align: right;\">\n",
       "      <th></th>\n",
       "      <th>timestamp</th>\n",
       "      <th>open</th>\n",
       "      <th>high</th>\n",
       "      <th>low</th>\n",
       "      <th>close</th>\n",
       "      <th>volume</th>\n",
       "      <th>log return</th>\n",
       "    </tr>\n",
       "  </thead>\n",
       "  <tbody>\n",
       "    <tr>\n",
       "      <th>939</th>\n",
       "      <td>2020-03-13</td>\n",
       "      <td>4800.01</td>\n",
       "      <td>5955.0</td>\n",
       "      <td>3782.13</td>\n",
       "      <td>5578.6</td>\n",
       "      <td>402201.673764</td>\n",
       "      <td>0.150322</td>\n",
       "    </tr>\n",
       "  </tbody>\n",
       "</table>\n",
       "</div>"
      ],
      "text/plain": [
       "      timestamp     open    high      low   close         volume  log return\n",
       "939  2020-03-13  4800.01  5955.0  3782.13  5578.6  402201.673764    0.150322"
      ]
     },
     "execution_count": 76,
     "metadata": {},
     "output_type": "execute_result"
    }
   ],
   "source": [
    "df_logreturn[df_logreturn['timestamp'] == \"2020-03-13\"]"
   ]
  },
  {
   "cell_type": "code",
   "execution_count": 88,
   "metadata": {},
   "outputs": [
    {
     "data": {
      "text/html": [
       "<div>\n",
       "<style scoped>\n",
       "    .dataframe tbody tr th:only-of-type {\n",
       "        vertical-align: middle;\n",
       "    }\n",
       "\n",
       "    .dataframe tbody tr th {\n",
       "        vertical-align: top;\n",
       "    }\n",
       "\n",
       "    .dataframe thead th {\n",
       "        text-align: right;\n",
       "    }\n",
       "</style>\n",
       "<table border=\"1\" class=\"dataframe\">\n",
       "  <thead>\n",
       "    <tr style=\"text-align: right;\">\n",
       "      <th></th>\n",
       "      <th>timestamp</th>\n",
       "      <th>open</th>\n",
       "      <th>high</th>\n",
       "      <th>low</th>\n",
       "      <th>close</th>\n",
       "      <th>volume</th>\n",
       "      <th>log return</th>\n",
       "    </tr>\n",
       "  </thead>\n",
       "  <tbody>\n",
       "    <tr>\n",
       "      <th>27</th>\n",
       "      <td>2017-09-13</td>\n",
       "      <td>4159.72</td>\n",
       "      <td>4165.38</td>\n",
       "      <td>3760.0</td>\n",
       "      <td>3944.69</td>\n",
       "      <td>913.462545</td>\n",
       "      <td>-0.054039</td>\n",
       "    </tr>\n",
       "  </tbody>\n",
       "</table>\n",
       "</div>"
      ],
      "text/plain": [
       "     timestamp     open     high     low    close      volume  log return\n",
       "27  2017-09-13  4159.72  4165.38  3760.0  3944.69  913.462545   -0.054039"
      ]
     },
     "execution_count": 88,
     "metadata": {},
     "output_type": "execute_result"
    }
   ],
   "source": [
    "df_logreturn[df_logreturn['timestamp'] == \"2017-09-13\"]"
   ]
  },
  {
   "cell_type": "code",
   "execution_count": 89,
   "metadata": {},
   "outputs": [
    {
     "data": {
      "text/html": [
       "<div>\n",
       "<style scoped>\n",
       "    .dataframe tbody tr th:only-of-type {\n",
       "        vertical-align: middle;\n",
       "    }\n",
       "\n",
       "    .dataframe tbody tr th {\n",
       "        vertical-align: top;\n",
       "    }\n",
       "\n",
       "    .dataframe thead th {\n",
       "        text-align: right;\n",
       "    }\n",
       "</style>\n",
       "<table border=\"1\" class=\"dataframe\">\n",
       "  <thead>\n",
       "    <tr style=\"text-align: right;\">\n",
       "      <th></th>\n",
       "      <th>timestamp</th>\n",
       "      <th>open</th>\n",
       "      <th>high</th>\n",
       "      <th>low</th>\n",
       "      <th>close</th>\n",
       "      <th>volume</th>\n",
       "      <th>log return</th>\n",
       "    </tr>\n",
       "  </thead>\n",
       "  <tbody>\n",
       "    <tr>\n",
       "      <th>29</th>\n",
       "      <td>2017-09-15</td>\n",
       "      <td>3188.01</td>\n",
       "      <td>3856.0</td>\n",
       "      <td>2817.0</td>\n",
       "      <td>3700.0</td>\n",
       "      <td>1968.866492</td>\n",
       "      <td>0.148619</td>\n",
       "    </tr>\n",
       "  </tbody>\n",
       "</table>\n",
       "</div>"
      ],
      "text/plain": [
       "     timestamp     open    high     low   close       volume  log return\n",
       "29  2017-09-15  3188.01  3856.0  2817.0  3700.0  1968.866492    0.148619"
      ]
     },
     "execution_count": 89,
     "metadata": {},
     "output_type": "execute_result"
    }
   ],
   "source": [
    "df_logreturn[df_logreturn['timestamp'] == \"2017-09-15\"]"
   ]
  }
 ],
 "metadata": {
  "kernelspec": {
   "display_name": "myenv",
   "language": "python",
   "name": "python3"
  },
  "language_info": {
   "codemirror_mode": {
    "name": "ipython",
    "version": 3
   },
   "file_extension": ".py",
   "mimetype": "text/x-python",
   "name": "python",
   "nbconvert_exporter": "python",
   "pygments_lexer": "ipython3",
   "version": "3.12.7"
  }
 },
 "nbformat": 4,
 "nbformat_minor": 2
}
